{
 "cells": [
  {
   "cell_type": "code",
   "execution_count": 14,
   "metadata": {},
   "outputs": [],
   "source": [
    "import json\n",
    "import cv2\n",
    "import numpy as np"
   ]
  },
  {
   "cell_type": "code",
   "execution_count": 15,
   "metadata": {},
   "outputs": [],
   "source": [
    "row, col = 0, 10\n",
    "patch_size = 1024\n",
    "overlap = 0.0625 \n",
    "step_size = int(patch_size * (1 - overlap))  # 960 pixels\n",
    "# step_size = 900"
   ]
  },
  {
   "cell_type": "code",
   "execution_count": 16,
   "metadata": {},
   "outputs": [],
   "source": [
    "# Calculate patch offset\n",
    "x_offset = col * step_size  # 9600\n",
    "y_offset = row * step_size  # 0\n",
    "patch_bounds = (x_offset, y_offset, x_offset + patch_size, y_offset + patch_size)  # (9600, 0, 10624, 1024)"
   ]
  },
  {
   "cell_type": "code",
   "execution_count": 17,
   "metadata": {},
   "outputs": [],
   "source": [
    "# Load GeoJSON from full WSI inference\n",
    "geojson_path = \"/home/KutumLabGPU/Documents/santosh/capstone_project/models/CellViT/example/output/preprocessing/TCGA-V5-A7RE-11A-01-TS1.57401526-EF9E-49AC-8FF6-B4F9652311CE/cell_detection/cells.geojson\"  # Update this\n",
    "with open(geojson_path, 'r') as f:\n",
    "    geojson_data = json.load(f)"
   ]
  },
  {
   "cell_type": "code",
   "execution_count": 18,
   "metadata": {},
   "outputs": [],
   "source": [
    "# Function to calculate centroid of a polygon (first ring only for simplicity)\n",
    "def get_centroid(coords):\n",
    "    coords = np.array(coords)\n",
    "    x, y = coords[:, 0], coords[:, 1]\n",
    "    centroid_x = np.mean(x)\n",
    "    centroid_y = np.mean(y)\n",
    "    return centroid_x, centroid_y"
   ]
  },
  {
   "cell_type": "code",
   "execution_count": 19,
   "metadata": {},
   "outputs": [],
   "source": [
    "# Filter and transform coordinates\n",
    "patch_features = []\n",
    "for feature in geojson_data:  # Directly iterate over the list\n",
    "    if feature[\"geometry\"][\"type\"] == \"MultiPolygon\":\n",
    "        # Use the first polygon ring for centroid calculation\n",
    "        coords = feature[\"geometry\"][\"coordinates\"][0][0]  # First MultiPolygon, first ring\n",
    "        centroid_x, centroid_y = get_centroid(coords)\n",
    "        \n",
    "        # Check if centroid is within patch bounds\n",
    "        if (patch_bounds[0] <= centroid_x < patch_bounds[2] and \n",
    "            patch_bounds[1] <= centroid_y < patch_bounds[3]):\n",
    "            # Transform all rings to patch-local coordinates\n",
    "            local_coords = []\n",
    "            for polygon in feature[\"geometry\"][\"coordinates\"]:\n",
    "                transformed_rings = []\n",
    "                for ring in polygon:\n",
    "                    transformed_ring = [[x - x_offset, y - y_offset] for x, y in ring]\n",
    "                    transformed_rings.append(transformed_ring)\n",
    "                local_coords.append(transformed_rings)\n",
    "            feature[\"geometry\"][\"coordinates\"] = local_coords  # Update coordinates\n",
    "            patch_features.append(feature)"
   ]
  },
  {
   "cell_type": "code",
   "execution_count": 20,
   "metadata": {},
   "outputs": [],
   "source": [
    "# Save filtered GeoJSON (optional)\n",
    "patch_geojson = patch_features  # Already a list, no need for FeatureCollection wrapper\n",
    "with open(\"patch_segmentation.geojson\", \"w\") as f:\n",
    "    json.dump(patch_geojson, f)"
   ]
  },
  {
   "cell_type": "code",
   "execution_count": 21,
   "metadata": {},
   "outputs": [],
   "source": [
    "# Load patch image\n",
    "patch_image_path = \"/home/KutumLabGPU/Documents/santosh/capstone_project/models/snake_algo_implement/TCGA-WSI-patch.png\"\n",
    "patch = cv2.imread(patch_image_path)"
   ]
  },
  {
   "cell_type": "code",
   "execution_count": 22,
   "metadata": {},
   "outputs": [
    {
     "name": "stdout",
     "output_type": "stream",
     "text": [
      "Patch image shape: (1024, 1024, 3)\n"
     ]
    }
   ],
   "source": [
    "print(f\"Patch image shape: {patch.shape}\")"
   ]
  },
  {
   "cell_type": "code",
   "execution_count": 23,
   "metadata": {},
   "outputs": [
    {
     "data": {
      "text/plain": [
       "True"
      ]
     },
     "execution_count": 23,
     "metadata": {},
     "output_type": "execute_result"
    }
   ],
   "source": [
    "# Overlay nuclei\n",
    "for feature in patch_features:\n",
    "    for polygon in feature[\"geometry\"][\"coordinates\"]:  # Iterate over MultiPolygon\n",
    "        coords = np.array(polygon[0], dtype=np.int32)  # First ring of each polygon\n",
    "        # x offset by +33\n",
    "        coords[:, 0] += 33\n",
    "        coords[:, 1] += 33\n",
    "        # set polygone color to red\n",
    "        cv2.polylines(patch, [coords], isClosed=True, color=(0, 0, 255), thickness=2)\n",
    "        # cv2.polylines(patch, [coords], color=(0, 0, 255), thickness=1)\n",
    "\n",
    "\n",
    "# Save or display the result\n",
    "cv2.imwrite(\"patch_with_nuclei.png\", patch)\n",
    "# cv2.imshow(\"Patch with Nuclei\", patch)"
   ]
  },
  {
   "cell_type": "code",
   "execution_count": null,
   "metadata": {},
   "outputs": [],
   "source": []
  },
  {
   "cell_type": "code",
   "execution_count": null,
   "metadata": {},
   "outputs": [],
   "source": []
  }
 ],
 "metadata": {
  "kernelspec": {
   "display_name": "cellvit_env",
   "language": "python",
   "name": "python3"
  },
  "language_info": {
   "codemirror_mode": {
    "name": "ipython",
    "version": 3
   },
   "file_extension": ".py",
   "mimetype": "text/x-python",
   "name": "python",
   "nbconvert_exporter": "python",
   "pygments_lexer": "ipython3",
   "version": "3.9.7"
  }
 },
 "nbformat": 4,
 "nbformat_minor": 2
}
