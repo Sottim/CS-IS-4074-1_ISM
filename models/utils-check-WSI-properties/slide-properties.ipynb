{
 "cells": [
  {
   "cell_type": "code",
   "execution_count": 3,
   "metadata": {},
   "outputs": [
    {
     "name": "stdout",
     "output_type": "stream",
     "text": [
      "<_PropertyMap {'openslide.level-count': '11', 'openslide.level[0].downsample': '1', 'openslide.level[0].height': '89856', 'openslide.level[0].tile-height': '128', 'openslide.level[0].tile-width': '128', 'openslide.level[0].width': '99840', 'openslide.level[10].downsample': '1031.0529683611803', 'openslide.level[10].height': '87', 'openslide.level[10].tile-height': '128', 'openslide.level[10].tile-width': '128', 'openslide.level[10].width': '97', 'openslide.level[1].downsample': '2', 'openslide.level[1].height': '44928', 'openslide.level[1].tile-height': '128', 'openslide.level[1].tile-width': '128', 'openslide.level[1].width': '49920', 'openslide.level[2].downsample': '4', 'openslide.level[2].height': '22464', 'openslide.level[2].tile-height': '128', 'openslide.level[2].tile-width': '128', 'openslide.level[2].width': '24960', 'openslide.level[3].downsample': '8', 'openslide.level[3].height': '11232', 'openslide.level[3].tile-height': '128', 'openslide.level[3].tile-width': '128', 'openslide.level[3].width': '12480', 'openslide.level[4].downsample': '16', 'openslide.level[4].height': '5616', 'openslide.level[4].tile-height': '128', 'openslide.level[4].tile-width': '128', 'openslide.level[4].width': '6240', 'openslide.level[5].downsample': '32', 'openslide.level[5].height': '2808', 'openslide.level[5].tile-height': '128', 'openslide.level[5].tile-width': '128', 'openslide.level[5].width': '3120', 'openslide.level[6].downsample': '64', 'openslide.level[6].height': '1404', 'openslide.level[6].tile-height': '128', 'openslide.level[6].tile-width': '128', 'openslide.level[6].width': '1560', 'openslide.level[7].downsample': '128', 'openslide.level[7].height': '702', 'openslide.level[7].tile-height': '128', 'openslide.level[7].tile-width': '128', 'openslide.level[7].width': '780', 'openslide.level[8].downsample': '256', 'openslide.level[8].height': '351', 'openslide.level[8].tile-height': '128', 'openslide.level[8].tile-width': '128', 'openslide.level[8].width': '390', 'openslide.level[9].downsample': '512.73142857142852', 'openslide.level[9].height': '175', 'openslide.level[9].tile-height': '128', 'openslide.level[9].tile-width': '128', 'openslide.level[9].width': '195', 'openslide.mpp-x': '1000', 'openslide.mpp-y': '1000', 'openslide.quickhash-1': '2b05b4a964f2657fc80f2a68fe52128c96886887406a812c3c2abf02bbb8c1da', 'openslide.vendor': 'generic-tiff', 'tiff.ResolutionUnit': 'centimeter', 'tiff.XResolution': '10', 'tiff.YResolution': '10'}>\n"
     ]
    }
   ],
   "source": [
    "import openslide\n",
    "\n",
    "wsi_slide = openslide.open_slide(\n",
    "    \"/home/KutumLabGPU/Documents/CellViT-plus-plus-data/input/S2503154_A8_tiff_pyramid.tiff\"\n",
    ")\n",
    "print(wsi_slide.properties)"
   ]
  },
  {
   "cell_type": "code",
   "execution_count": 5,
   "metadata": {},
   "outputs": [
    {
     "name": "stdout",
     "output_type": "stream",
     "text": [
      "Dimensions of the WSI: 99840 x 89856\n",
      "Objective Power (Magnification): Unknownx\n",
      "Level dimensions:\n",
      "  Level 0: 99840 x 89856\n",
      "  Level 1: 49920 x 44928\n",
      "  Level 2: 24960 x 22464\n",
      "  Level 3: 12480 x 11232\n",
      "  Level 4: 6240 x 5616\n",
      "  Level 5: 3120 x 2808\n",
      "  Level 6: 1560 x 1404\n",
      "  Level 7: 780 x 702\n",
      "  Level 8: 390 x 351\n",
      "  Level 9: 195 x 175\n",
      "  Level 10: 97 x 87\n",
      "Microns per pixel (MPP): 1000 x 1000\n"
     ]
    }
   ],
   "source": [
    "import openslide\n",
    "\n",
    "# Open the WSI file\n",
    "slide = openslide.OpenSlide(\"/home/KutumLabGPU/Documents/CellViT-plus-plus-data/input/S2503154_A8_tiff_pyramid.tiff\")\n",
    "\n",
    "# Get the dimensions of the WSI\n",
    "width, height = slide.dimensions\n",
    "\n",
    "# Get the objective power (magnification)\n",
    "objective_power = slide.properties.get(openslide.PROPERTY_NAME_OBJECTIVE_POWER, 'Unknown')\n",
    "\n",
    "# Get the level dimensions\n",
    "level_dimensions = slide.level_dimensions\n",
    "\n",
    "# Print the dimensions and objective power\n",
    "print(f\"Dimensions of the WSI: {width} x {height}\")\n",
    "print(f\"Objective Power (Magnification): {objective_power}x\")\n",
    "print(\"Level dimensions:\")\n",
    "for i, dim in enumerate(level_dimensions):\n",
    "    print(f\"  Level {i}: {dim[0]} x {dim[1]}\")\n",
    "\n",
    "# Optional: Get the microns per pixel (MPP) if available\n",
    "mpp_x = slide.properties.get(openslide.PROPERTY_NAME_MPP_X, 'Unknown')\n",
    "mpp_y = slide.properties.get(openslide.PROPERTY_NAME_MPP_Y, 'Unknown')\n",
    "print(f\"Microns per pixel (MPP): {mpp_x} x {mpp_y}\")\n"
   ]
  },
  {
   "cell_type": "code",
   "execution_count": null,
   "metadata": {},
   "outputs": [],
   "source": []
  }
 ],
 "metadata": {
  "kernelspec": {
   "display_name": "cell-annotator",
   "language": "python",
   "name": "python3"
  },
  "language_info": {
   "codemirror_mode": {
    "name": "ipython",
    "version": 3
   },
   "file_extension": ".py",
   "mimetype": "text/x-python",
   "name": "python",
   "nbconvert_exporter": "python",
   "pygments_lexer": "ipython3",
   "version": "3.11.8"
  }
 },
 "nbformat": 4,
 "nbformat_minor": 2
}
